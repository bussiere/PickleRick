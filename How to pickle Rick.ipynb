{
 "cells": [
  {
   "cell_type": "code",
   "execution_count": 3,
   "metadata": {
    "collapsed": true
   },
   "outputs": [],
   "source": [
    "#first we pickle Rick \n",
    "import pickle\n",
    "\n",
    "rick = \"\"\"\n",
    "class Rick:  # Définition de notre classe Personne\n",
    "    def __init__(self):  # Notre méthode constructeur\n",
    "        print(\"Pickle Riiiiiiiiiiiiiiiiiiiiiiiiiiiiiiiiiiiiiiiick\")\n",
    "        self.name = \"Sanchez\"\n",
    "rick = Rick()\n",
    "\"\"\"\n",
    "with open('Rick', 'wb') as f:\n",
    "    pickle.dump(rick,f)"
   ]
  },
  {
   "cell_type": "code",
   "execution_count": 4,
   "metadata": {},
   "outputs": [
    {
     "name": "stdout",
     "output_type": "stream",
     "text": [
      "Pickle Riiiiiiiiiiiiiiiiiiiiiiiiiiiiiiiiiiiiiiiick\n",
      "Sanchez\n"
     ]
    }
   ],
   "source": [
    "#then we load him with pickle and cheat with exec :\n",
    "import pickle\n",
    "\n",
    "with open('Rick', 'rb') as f:\n",
    "    exec(pickle.load(f))\n",
    "\n",
    "print(rick.name)"
   ]
  },
  {
   "cell_type": "markdown",
   "metadata": {},
   "source": [
    "#so we have a pickle Rick now ...\n",
    "#source here\n",
    "\n",
    "https://github.com/bussiere/PickleRick"
   ]
  },
  {
   "cell_type": "code",
   "execution_count": null,
   "metadata": {
    "collapsed": true
   },
   "outputs": [],
   "source": []
  }
 ],
 "metadata": {
  "kernelspec": {
   "display_name": "Python 3",
   "language": "python",
   "name": "python3"
  },
  "language_info": {
   "codemirror_mode": {
    "name": "ipython",
    "version": 3
   },
   "file_extension": ".py",
   "mimetype": "text/x-python",
   "name": "python",
   "nbconvert_exporter": "python",
   "pygments_lexer": "ipython3",
   "version": "3.5.2"
  }
 },
 "nbformat": 4,
 "nbformat_minor": 2
}
